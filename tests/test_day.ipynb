{
 "cells": [
  {
   "cell_type": "code",
   "execution_count": 50,
   "id": "fa863950-17c2-4eff-8109-486dcd27cbf5",
   "metadata": {},
   "outputs": [],
   "source": [
    "# package and system imports\n",
    "import sys\n",
    "import os\n",
    "import json\n",
    "from datetime import date, datetime as datelib\n",
    "import datetime\n",
    "from typing import Dict"
   ]
  },
  {
   "cell_type": "code",
   "execution_count": 25,
   "id": "a51b9ea4-25b6-4cc9-9596-1e4e5b332d73",
   "metadata": {},
   "outputs": [],
   "source": [
    "# local modules imports\n",
    "module_path = os.path.abspath(os.path.join('../ts-planetary-hours/src'))\n",
    "if module_path not in sys.path:\n",
    "    sys.path.append(module_path)\n",
    "\n",
    "from metadata import Metadata\n",
    "from utils import get_planetary_hour"
   ]
  },
  {
   "cell_type": "code",
   "execution_count": 26,
   "id": "b36f2906-57fc-4077-9c31-8ae2be6610a4",
   "metadata": {},
   "outputs": [],
   "source": [
    "metadata = Metadata.load_environment()"
   ]
  },
  {
   "cell_type": "code",
   "execution_count": 35,
   "id": "5940967f-0bf9-4b76-bfea-cbb97fbbf75e",
   "metadata": {},
   "outputs": [
    {
     "name": "stdout",
     "output_type": "stream",
     "text": [
      "{\"Response\": {\"General\": {\"Date\": \"2022-10-29\", \"DayoftheWeek\": \"Saturday\", \"PlanetaryRuler\": \"Saturn\", \"Latitude\": \"-23.5489\", \"Longitude\": \"-46.6388\", \"TimezoneOffset(secs)\": -3}, \"Solar\": {\"Sunrise\": \"05:22:32\", \"SolarNoon\": \"11:50:16\", \"Sunset\": \"18:18:20\", \"Day Length(secs)\": \"12:55:48\", \"SolarHour\": \"65\"}, \"Lunar\": {\"Sunset\": \"18:18:20\", \"NextSunrise\": \"05:22:32\", \"NightLength(secs)\": \"11:04:12\", \"LunarHour\": \"55\", \"MoonPhase\": \"Waxing Crescent\"}, \"SolarHours\": {\"1stSolarHour\": {\"Start\": \"05:22:32\", \"End\": \"06:27:11\", \"Ruler\": \"Saturn\"}, \"2ndSolarHour\": {\"Start\": \"06:27:11\", \"End\": \"07:31:50\", \"Ruler\": \"Jupiter\"}, \"3rdSolarHour\": {\"Start\": \"07:31:50\", \"End\": \"08:36:29\", \"Ruler\": \"Mars\"}, \"4thSolarHour\": {\"Start\": \"08:36:29\", \"End\": \"09:41:08\", \"Ruler\": \"Sun\"}, \"5thSolarHour\": {\"Start\": \"09:41:08\", \"End\": \"10:45:47\", \"Ruler\": \"Venus\"}, \"6thSolarHour\": {\"Start\": \"10:45:47\", \"End\": \"11:50:16\", \"Ruler\": \"Mercury\"}, \"7thSolarHour\": {\"Start\": \"11:50:16\", \"End\": \"12:54:55\", \"Ruler\": \"Moon\"}, \"8thSolarHour\": {\"Start\": \"12:54:55\", \"End\": \"13:59:34\", \"Ruler\": \"Saturn\"}, \"9thSolarHour\": {\"Start\": \"13:59:34\", \"End\": \"15:04:13\", \"Ruler\": \"Jupiter\"}, \"10thSolarHour\": {\"Start\": \"15:04:13\", \"End\": \"16:08:52\", \"Ruler\": \"Mars\"}, \"11thSolarHour\": {\"Start\": \"16:08:52\", \"End\": \"17:13:31\", \"Ruler\": \"Sun\"}, \"12thSolarHour\": {\"Start\": \"17:13:31\", \"End\": \"18:18:20\", \"Ruler\": \"Venus\"}}, \"LunarHours\": {\"1stLunarHour\": {\"Start\": \"18:18:20\", \"End\": \"19:13:41\", \"Ruler\": \"Mercury\"}, \"2ndLunarHour\": {\"Start\": \"19:13:41\", \"End\": \"20:09:02\", \"Ruler\": \"Moon\"}, \"3rdLunarHour\": {\"Start\": \"20:09:02\", \"End\": \"21:04:23\", \"Ruler\": \"Saturn\"}, \"4thLunarHour\": {\"Start\": \"21:04:23\", \"End\": \"21:59:44\", \"Ruler\": \"Jupiter\"}, \"5thLunarHour\": {\"Start\": \"21:59:44\", \"End\": \"22:55:05\", \"Ruler\": \"Mars\"}, \"6thLunarHour\": {\"Start\": \"22:55:05\", \"End\": \"23:50:26\", \"Ruler\": \"Sun\"}, \"7thLunarHour\": {\"Start\": \"23:50:26\", \"End\": \"00:45:47\", \"Ruler\": \"Venus\"}, \"8thLunarHour\": {\"Start\": \"00:45:47\", \"End\": \"01:41:08\", \"Ruler\": \"Mercury\"}, \"9thLunarHour\": {\"Start\": \"01:41:08\", \"End\": \"02:36:29\", \"Ruler\": \"Moon\"}, \"10thLunarHour\": {\"Start\": \"02:36:29\", \"End\": \"03:31:50\", \"Ruler\": \"Saturn\"}, \"11thLunarHour\": {\"Start\": \"03:31:50\", \"End\": \"04:27:11\", \"Ruler\": \"Jupiter\"}, \"12thLunarHour\": {\"Start\": \"04:27:11\", \"End\": \"05:22:32\", \"Ruler\": \"Mars\"}}}}\n",
      "\n"
     ]
    }
   ],
   "source": [
    "response = get_planetary_hour(metadata.api_url, metadata.date, metadata.location)"
   ]
  },
  {
   "cell_type": "code",
   "execution_count": 41,
   "id": "2a06c84d-83b8-4d4b-98e5-d9ddf02eccb0",
   "metadata": {},
   "outputs": [
    {
     "name": "stdout",
     "output_type": "stream",
     "text": [
      "{\n",
      "    \"Response\": {\n",
      "        \"General\": {\n",
      "            \"Date\": \"2022-10-29\",\n",
      "            \"DayoftheWeek\": \"Saturday\",\n",
      "            \"PlanetaryRuler\": \"Saturn\",\n",
      "            \"Latitude\": \"-23.5489\",\n",
      "            \"Longitude\": \"-46.6388\",\n",
      "            \"TimezoneOffset(secs)\": -3\n",
      "        },\n",
      "        \"Solar\": {\n",
      "            \"Sunrise\": \"05:22:32\",\n",
      "            \"SolarNoon\": \"11:50:16\",\n",
      "            \"Sunset\": \"18:18:20\",\n",
      "            \"Day Length(secs)\": \"12:55:48\",\n",
      "            \"SolarHour\": \"65\"\n",
      "        },\n",
      "        \"Lunar\": {\n",
      "            \"Sunset\": \"18:18:20\",\n",
      "            \"NextSunrise\": \"05:22:32\",\n",
      "            \"NightLength(secs)\": \"11:04:12\",\n",
      "            \"LunarHour\": \"55\",\n",
      "            \"MoonPhase\": \"Waxing Crescent\"\n",
      "        },\n",
      "        \"SolarHours\": {\n",
      "            \"1stSolarHour\": {\n",
      "                \"Start\": \"05:22:32\",\n",
      "                \"End\": \"06:27:11\",\n",
      "                \"Ruler\": \"Saturn\"\n",
      "            },\n",
      "            \"2ndSolarHour\": {\n",
      "                \"Start\": \"06:27:11\",\n",
      "                \"End\": \"07:31:50\",\n",
      "                \"Ruler\": \"Jupiter\"\n",
      "            },\n",
      "            \"3rdSolarHour\": {\n",
      "                \"Start\": \"07:31:50\",\n",
      "                \"End\": \"08:36:29\",\n",
      "                \"Ruler\": \"Mars\"\n",
      "            },\n",
      "            \"4thSolarHour\": {\n",
      "                \"Start\": \"08:36:29\",\n",
      "                \"End\": \"09:41:08\",\n",
      "                \"Ruler\": \"Sun\"\n",
      "            },\n",
      "            \"5thSolarHour\": {\n",
      "                \"Start\": \"09:41:08\",\n",
      "                \"End\": \"10:45:47\",\n",
      "                \"Ruler\": \"Venus\"\n",
      "            },\n",
      "            \"6thSolarHour\": {\n",
      "                \"Start\": \"10:45:47\",\n",
      "                \"End\": \"11:50:16\",\n",
      "                \"Ruler\": \"Mercury\"\n",
      "            },\n",
      "            \"7thSolarHour\": {\n",
      "                \"Start\": \"11:50:16\",\n",
      "                \"End\": \"12:54:55\",\n",
      "                \"Ruler\": \"Moon\"\n",
      "            },\n",
      "            \"8thSolarHour\": {\n",
      "                \"Start\": \"12:54:55\",\n",
      "                \"End\": \"13:59:34\",\n",
      "                \"Ruler\": \"Saturn\"\n",
      "            },\n",
      "            \"9thSolarHour\": {\n",
      "                \"Start\": \"13:59:34\",\n",
      "                \"End\": \"15:04:13\",\n",
      "                \"Ruler\": \"Jupiter\"\n",
      "            },\n",
      "            \"10thSolarHour\": {\n",
      "                \"Start\": \"15:04:13\",\n",
      "                \"End\": \"16:08:52\",\n",
      "                \"Ruler\": \"Mars\"\n",
      "            },\n",
      "            \"11thSolarHour\": {\n",
      "                \"Start\": \"16:08:52\",\n",
      "                \"End\": \"17:13:31\",\n",
      "                \"Ruler\": \"Sun\"\n",
      "            },\n",
      "            \"12thSolarHour\": {\n",
      "                \"Start\": \"17:13:31\",\n",
      "                \"End\": \"18:18:20\",\n",
      "                \"Ruler\": \"Venus\"\n",
      "            }\n",
      "        },\n",
      "        \"LunarHours\": {\n",
      "            \"1stLunarHour\": {\n",
      "                \"Start\": \"18:18:20\",\n",
      "                \"End\": \"19:13:41\",\n",
      "                \"Ruler\": \"Mercury\"\n",
      "            },\n",
      "            \"2ndLunarHour\": {\n",
      "                \"Start\": \"19:13:41\",\n",
      "                \"End\": \"20:09:02\",\n",
      "                \"Ruler\": \"Moon\"\n",
      "            },\n",
      "            \"3rdLunarHour\": {\n",
      "                \"Start\": \"20:09:02\",\n",
      "                \"End\": \"21:04:23\",\n",
      "                \"Ruler\": \"Saturn\"\n",
      "            },\n",
      "            \"4thLunarHour\": {\n",
      "                \"Start\": \"21:04:23\",\n",
      "                \"End\": \"21:59:44\",\n",
      "                \"Ruler\": \"Jupiter\"\n",
      "            },\n",
      "            \"5thLunarHour\": {\n",
      "                \"Start\": \"21:59:44\",\n",
      "                \"End\": \"22:55:05\",\n",
      "                \"Ruler\": \"Mars\"\n",
      "            },\n",
      "            \"6thLunarHour\": {\n",
      "                \"Start\": \"22:55:05\",\n",
      "                \"End\": \"23:50:26\",\n",
      "                \"Ruler\": \"Sun\"\n",
      "            },\n",
      "            \"7thLunarHour\": {\n",
      "                \"Start\": \"23:50:26\",\n",
      "                \"End\": \"00:45:47\",\n",
      "                \"Ruler\": \"Venus\"\n",
      "            },\n",
      "            \"8thLunarHour\": {\n",
      "                \"Start\": \"00:45:47\",\n",
      "                \"End\": \"01:41:08\",\n",
      "                \"Ruler\": \"Mercury\"\n",
      "            },\n",
      "            \"9thLunarHour\": {\n",
      "                \"Start\": \"01:41:08\",\n",
      "                \"End\": \"02:36:29\",\n",
      "                \"Ruler\": \"Moon\"\n",
      "            },\n",
      "            \"10thLunarHour\": {\n",
      "                \"Start\": \"02:36:29\",\n",
      "                \"End\": \"03:31:50\",\n",
      "                \"Ruler\": \"Saturn\"\n",
      "            },\n",
      "            \"11thLunarHour\": {\n",
      "                \"Start\": \"03:31:50\",\n",
      "                \"End\": \"04:27:11\",\n",
      "                \"Ruler\": \"Jupiter\"\n",
      "            },\n",
      "            \"12thLunarHour\": {\n",
      "                \"Start\": \"04:27:11\",\n",
      "                \"End\": \"05:22:32\",\n",
      "                \"Ruler\": \"Mars\"\n",
      "            }\n",
      "        }\n",
      "    }\n",
      "}\n"
     ]
    }
   ],
   "source": [
    "print(json.dumps(response, indent=4))"
   ]
  },
  {
   "cell_type": "code",
   "execution_count": 67,
   "id": "c78e8cd6-7715-4cab-8791-837c77b41861",
   "metadata": {},
   "outputs": [
    {
     "name": "stdout",
     "output_type": "stream",
     "text": [
      "05:31:00\n",
      "<class 'str'>\n"
     ]
    }
   ],
   "source": [
    "today_hour = datelib.now().strftime('%H:%M:%S')\n",
    "print(today_hour)\n",
    "print(type(today_hour))"
   ]
  },
  {
   "cell_type": "code",
   "execution_count": 61,
   "id": "67e4e482-5d1a-4633-8c6b-4a853c07cc04",
   "metadata": {},
   "outputs": [],
   "source": [
    "def parse_hour(response: Dict) -> str:\n",
    "    time_now = datelib.now().strftime('%H:%M:%S')\n",
    "    pass"
   ]
  },
  {
   "cell_type": "code",
   "execution_count": null,
   "id": "faf93d2a-2637-4b1a-989d-3c0435b1b658",
   "metadata": {},
   "outputs": [],
   "source": []
  },
  {
   "cell_type": "code",
   "execution_count": null,
   "id": "397826fc-714d-444a-a0ab-1fdf62a8b832",
   "metadata": {},
   "outputs": [],
   "source": []
  },
  {
   "cell_type": "code",
   "execution_count": null,
   "id": "addb7e29-1bce-4deb-9aa9-11ab74fcbbec",
   "metadata": {},
   "outputs": [],
   "source": []
  },
  {
   "cell_type": "code",
   "execution_count": null,
   "id": "047e96c1-709c-4802-b148-40eee739d50a",
   "metadata": {},
   "outputs": [],
   "source": []
  },
  {
   "cell_type": "code",
   "execution_count": null,
   "id": "027d2fc5-e52e-4402-acb3-5e9aef0d2348",
   "metadata": {},
   "outputs": [],
   "source": []
  },
  {
   "cell_type": "code",
   "execution_count": null,
   "id": "913f7462-869c-4a3c-83f5-3c3c06357097",
   "metadata": {},
   "outputs": [],
   "source": []
  },
  {
   "cell_type": "code",
   "execution_count": null,
   "id": "cc7061de-6c34-4895-83f5-0b012279ac72",
   "metadata": {},
   "outputs": [],
   "source": []
  },
  {
   "cell_type": "code",
   "execution_count": null,
   "id": "c919fd6e-557f-4567-9644-02de2e94691b",
   "metadata": {},
   "outputs": [],
   "source": []
  },
  {
   "cell_type": "code",
   "execution_count": null,
   "id": "10de3d3c-e15a-4a02-8ecf-246d51947c0c",
   "metadata": {},
   "outputs": [],
   "source": []
  },
  {
   "cell_type": "code",
   "execution_count": null,
   "id": "ac188155-fb35-4a87-8caf-75151abae819",
   "metadata": {},
   "outputs": [],
   "source": []
  },
  {
   "cell_type": "code",
   "execution_count": null,
   "id": "f5fe7663-16d2-4983-96fd-097ace2fc7c0",
   "metadata": {},
   "outputs": [],
   "source": []
  },
  {
   "cell_type": "code",
   "execution_count": null,
   "id": "ec768873-97c9-4dfd-b88b-92e2b783c62d",
   "metadata": {},
   "outputs": [],
   "source": []
  },
  {
   "cell_type": "code",
   "execution_count": null,
   "id": "59b3fcaa-39ad-4d76-9253-a6c900da2d59",
   "metadata": {},
   "outputs": [],
   "source": []
  }
 ],
 "metadata": {
  "kernelspec": {
   "display_name": "Python 3 (ipykernel)",
   "language": "python",
   "name": "python3"
  },
  "language_info": {
   "codemirror_mode": {
    "name": "ipython",
    "version": 3
   },
   "file_extension": ".py",
   "mimetype": "text/x-python",
   "name": "python",
   "nbconvert_exporter": "python",
   "pygments_lexer": "ipython3",
   "version": "3.8.10"
  }
 },
 "nbformat": 4,
 "nbformat_minor": 5
}
